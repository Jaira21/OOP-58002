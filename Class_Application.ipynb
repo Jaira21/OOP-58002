{
  "nbformat": 4,
  "nbformat_minor": 0,
  "metadata": {
    "colab": {
      "name": "Class_Application",
      "provenance": [],
      "authorship_tag": "ABX9TyMc5X4oTY9R1bmMzoqi9TxY",
      "include_colab_link": true
    },
    "kernelspec": {
      "name": "python3",
      "display_name": "Python 3"
    },
    "language_info": {
      "name": "python"
    }
  },
  "cells": [
    {
      "cell_type": "markdown",
      "metadata": {
        "id": "view-in-github",
        "colab_type": "text"
      },
      "source": [
        "<a href=\"https://colab.research.google.com/github/Jaira21/OOP-58002/blob/main/Class_Application.ipynb\" target=\"_parent\"><img src=\"https://colab.research.google.com/assets/colab-badge.svg\" alt=\"Open In Colab\"/></a>"
      ]
    },
    {
      "cell_type": "markdown",
      "source": [
        "#Class with Multiple Objects Application \n",
        "\n",
        "* Create a Python program that displays the name of 3 students (Student 1, Student 2, Student 3) and their grades  \n",
        "* Create a class name \"Person\" and attributes - std1, std2, std3, pre, mid, fin \n",
        "* Compute for the average grade of each term using Grade() method\n",
        "* Information about student's grades must be hidden from others  \n",
        "\n",
        "\n"
      ],
      "metadata": {
        "id": "ejQY_Omw3Ovx"
      }
    },
    {
      "cell_type": "code",
      "source": [
        "import random\n",
        "\n",
        "class Person:\n",
        "  def __init__ (self, student, pre, mid, fin):\n",
        "    self.student = student\n",
        "    self.pre = pre *0.30\n",
        "    self.mid = mid *0.30\n",
        "    self.fin = fin *0.40\n",
        "\n",
        "  def Grade (self):\n",
        "    print (self.student, \"has an average grade of\", self.pre, \"in prelims\")\n",
        "    print (self.student, \"has an average grade of\", self.mid, \"in midterms\")\n",
        "    print (self.student, \"has an average grade of\", self.fin, \"in finals\")\n",
        "\n",
        "std1 = Person (\"Kenneth Paragas\", random.randint(75,99), random.randint(75,99), random.randint(75,99))\n",
        "std2 = Person (\"Adam Darwish\", random.randint(75,99), random.randint(75,99), random.randint(75,99))\n",
        "std3 = Person (\"Alyssa Santos\", random.randint(75,99), random.randint(75,99), random.randint(75,99))\n",
        "\n",
        "std1.Grade()"
      ],
      "metadata": {
        "colab": {
          "base_uri": "https://localhost:8080/"
        },
        "id": "ihmLyhzJ4E8p",
        "outputId": "742ae642-ae22-4b3d-9592-8f7da242fb15"
      },
      "execution_count": 6,
      "outputs": [
        {
          "output_type": "stream",
          "name": "stdout",
          "text": [
            "Kenneth Paragas has an average grade of 22.5 in prelims\n",
            "Kenneth Paragas has an average grade of 23.4 in midterms\n",
            "Kenneth Paragas has an average grade of 31.6 in finals\n"
          ]
        }
      ]
    }
  ]
}