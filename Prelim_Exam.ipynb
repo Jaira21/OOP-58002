{
  "nbformat": 4,
  "nbformat_minor": 0,
  "metadata": {
    "colab": {
      "name": "Prelim Exam",
      "provenance": [],
      "authorship_tag": "ABX9TyNF2CMcgXMACQ53IbFwr3TH",
      "include_colab_link": true
    },
    "kernelspec": {
      "name": "python3",
      "display_name": "Python 3"
    },
    "language_info": {
      "name": "python"
    }
  },
  "cells": [
    {
      "cell_type": "markdown",
      "metadata": {
        "id": "view-in-github",
        "colab_type": "text"
      },
      "source": [
        "<a href=\"https://colab.research.google.com/github/Jaira21/OOP-58002/blob/main/Prelim_Exam.ipynb\" target=\"_parent\"><img src=\"https://colab.research.google.com/assets/colab-badge.svg\" alt=\"Open In Colab\"/></a>"
      ]
    },
    {
      "cell_type": "markdown",
      "source": [
        "Problem 2. (50 points)\n",
        "\n",
        "Write a Python to display your full name, student number, age, and course\n",
        "Create a class named Student with attributes: Name, Student_No, Age, School, and Course\n",
        "Create an object name Myself and assign an instance for each attribute.\n",
        "Create a method Self () using an instantiation of a class.\n",
        "Insert your GitHub link \"Prelim Exam\" from your repository named \"OOP 58002\""
      ],
      "metadata": {
        "id": "v7r-KJxSUlHM"
      }
    },
    {
      "cell_type": "code",
      "source": [
        "class Student ():\n",
        "  def __init__ (self, Name, Student_No, Age, School, Course):\n",
        "    self.Name = Name\n",
        "    self.Student_No = Student_No\n",
        "    self.Age = Age\n",
        "    self.School = School\n",
        "    self.Course = Course\n",
        "\n",
        "  def Myself (self):\n",
        "    print (\"ako nga pala si\", self.Name)\n",
        "    print (\"at ang aking student number ay\", self.Student_No)\n",
        "    print (\"ako ay\", self.Age, \"taong gulang\")\n",
        "    print (\"ang aking kurso ay\", self.Course, \"at nag aaral ako sa\", self.School)\n",
        "\n",
        "jai = Student (\"J'aira Ronquillo\", 202111835, 18, \"Adamson University\", \"BS Computer Engineering\")\n",
        "jai.Myself()"
      ],
      "metadata": {
        "colab": {
          "base_uri": "https://localhost:8080/"
        },
        "id": "Q2mAkLsjQ6pz",
        "outputId": "9252d33f-b3c4-41ce-ca95-b49ffbc78d2c"
      },
      "execution_count": 3,
      "outputs": [
        {
          "output_type": "stream",
          "name": "stdout",
          "text": [
            "ako nga pala si J'aira Ronquillo\n",
            "at ang aking student number ay 202111835\n",
            "ako ay 18 taong gulang\n",
            "ang aking kurso ay BS Computer Engineering at nag aaral ako sa Adamson University\n"
          ]
        }
      ]
    }
  ]
}