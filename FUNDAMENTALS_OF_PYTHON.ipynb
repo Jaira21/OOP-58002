{
  "nbformat": 4,
  "nbformat_minor": 0,
  "metadata": {
    "colab": {
      "name": "FUNDAMENTALS OF PYTHON",
      "provenance": [],
      "collapsed_sections": [],
      "authorship_tag": "ABX9TyPQlFMyMn30/Bh68NnS8UKx",
      "include_colab_link": true
    },
    "kernelspec": {
      "name": "python3",
      "display_name": "Python 3"
    },
    "language_info": {
      "name": "python"
    }
  },
  "cells": [
    {
      "cell_type": "markdown",
      "metadata": {
        "id": "view-in-github",
        "colab_type": "text"
      },
      "source": [
        "<a href=\"https://colab.research.google.com/github/Jaira21/OOP-58002/blob/main/FUNDAMENTALS_OF_PYTHON.ipynb\" target=\"_parent\"><img src=\"https://colab.research.google.com/assets/colab-badge.svg\" alt=\"Open In Colab\"/></a>"
      ]
    },
    {
      "cell_type": "markdown",
      "source": [
        "Python Identation"
      ],
      "metadata": {
        "id": "rQp9WsN429L_"
      }
    },
    {
      "cell_type": "code",
      "source": [
        "if 5>2:\n",
        "  print(\"Yes\")"
      ],
      "metadata": {
        "colab": {
          "base_uri": "https://localhost:8080/"
        },
        "id": "K4VzowGeIkSB",
        "outputId": "7c0ed508-52ef-4930-8d14-1427b2634fe7"
      },
      "execution_count": 17,
      "outputs": [
        {
          "output_type": "stream",
          "name": "stdout",
          "text": [
            "Yes\n"
          ]
        }
      ]
    },
    {
      "cell_type": "markdown",
      "source": [
        "Python Comments"
      ],
      "metadata": {
        "id": "GuhRiZtGInJY"
      }
    },
    {
      "cell_type": "code",
      "source": [
        "#This is a comment\n",
        "print(\"Hello, World\")"
      ],
      "metadata": {
        "colab": {
          "base_uri": "https://localhost:8080/"
        },
        "id": "3iJNT0w3Io-Q",
        "outputId": "2ad1af3e-9473-4faa-e8e7-679777034397"
      },
      "execution_count": 18,
      "outputs": [
        {
          "output_type": "stream",
          "name": "stdout",
          "text": [
            "Hello, World\n"
          ]
        }
      ]
    },
    {
      "cell_type": "markdown",
      "source": [
        "Python Variable"
      ],
      "metadata": {
        "id": "t7QoLUowJILw"
      }
    },
    {
      "cell_type": "code",
      "source": [
        "x = \"Sally\"\n",
        "\n",
        "a = 0\n",
        "a,b,c=0,1,2\n",
        "\n",
        "print(x)\n",
        "print(a)\n",
        "print(b)\n",
        "print(c)\n",
        "print(a,b,c)"
      ],
      "metadata": {
        "colab": {
          "base_uri": "https://localhost:8080/"
        },
        "id": "XSrHF846JKJY",
        "outputId": "58f3dd44-3890-4429-f91b-fc2ec6675802"
      },
      "execution_count": 19,
      "outputs": [
        {
          "output_type": "stream",
          "name": "stdout",
          "text": [
            "Sally\n",
            "0\n",
            "1\n",
            "2\n",
            "0 1 2\n"
          ]
        }
      ]
    },
    {
      "cell_type": "markdown",
      "source": [
        "Casting"
      ],
      "metadata": {
        "id": "p8KlBVOVJMaY"
      }
    },
    {
      "cell_type": "code",
      "source": [
        "d = 4\n",
        "d = int(4)\n",
        "print(d)"
      ],
      "metadata": {
        "colab": {
          "base_uri": "https://localhost:8080/"
        },
        "id": "vewfdPNDJOhw",
        "outputId": "e327e703-86db-4a8c-e881-86f699a9c356"
      },
      "execution_count": 20,
      "outputs": [
        {
          "output_type": "stream",
          "name": "stdout",
          "text": [
            "4\n"
          ]
        }
      ]
    },
    {
      "cell_type": "markdown",
      "source": [
        "Type () Function"
      ],
      "metadata": {
        "id": "os2lA4dJJXFo"
      }
    },
    {
      "cell_type": "code",
      "source": [
        "d = 4\n",
        "d = int(4)\n",
        "print(type(d))"
      ],
      "metadata": {
        "colab": {
          "base_uri": "https://localhost:8080/"
        },
        "id": "za6mFOHhJZ6o",
        "outputId": "9edf98b4-255f-4eca-b1f7-e0d44bd388b6"
      },
      "execution_count": 21,
      "outputs": [
        {
          "output_type": "stream",
          "name": "stdout",
          "text": [
            "<class 'int'>\n"
          ]
        }
      ]
    },
    {
      "cell_type": "markdown",
      "source": [
        "Double quotes and single quotes"
      ],
      "metadata": {
        "id": "w1iXiT8-JjLQ"
      }
    },
    {
      "cell_type": "code",
      "source": [
        "#y = \"Ana\"\n",
        "#print(y)\n",
        "\n",
        "y = 'Ana'\n",
        "Y = \"Robert\"\n",
        "print(y)\n",
        "print(Y)"
      ],
      "metadata": {
        "colab": {
          "base_uri": "https://localhost:8080/"
        },
        "id": "iSaIgWk8JlUI",
        "outputId": "be739dda-db33-464b-d5f5-86bb4a6397d4"
      },
      "execution_count": 22,
      "outputs": [
        {
          "output_type": "stream",
          "name": "stdout",
          "text": [
            "Ana\n",
            "Robert\n"
          ]
        }
      ]
    },
    {
      "cell_type": "markdown",
      "source": [
        "Multiple Variables with one value"
      ],
      "metadata": {
        "id": "DLGKmXXQJzdJ"
      }
    },
    {
      "cell_type": "code",
      "source": [
        "#x = \"Tony\"\n",
        "k=l=m=\"four\"\n",
        "print(k)\n",
        "print(l)\n",
        "print(m)\n",
        "print(k,l,m)"
      ],
      "metadata": {
        "colab": {
          "base_uri": "https://localhost:8080/"
        },
        "id": "057XcGZBJ1Iw",
        "outputId": "db557382-72eb-47bd-f70c-f1dfdc864786"
      },
      "execution_count": 23,
      "outputs": [
        {
          "output_type": "stream",
          "name": "stdout",
          "text": [
            "four\n",
            "four\n",
            "four\n",
            "four four four\n"
          ]
        }
      ]
    },
    {
      "cell_type": "markdown",
      "source": [
        "Output Variable"
      ],
      "metadata": {
        "id": "DkmgkwdEJ3iP"
      }
    },
    {
      "cell_type": "code",
      "source": [
        "print(\"Python programming is enjoying\")\n",
        "\n",
        "h = \"enjoying\"\n",
        "p = \"Python programming is\"\n",
        "print(\"Python programming is\" + h)\n",
        "print(p+ \"\" + \"\" +h)"
      ],
      "metadata": {
        "colab": {
          "base_uri": "https://localhost:8080/"
        },
        "id": "HBWqtNTmJ5Zf",
        "outputId": "f3328448-2e90-4164-afd2-5a3a79f6632d"
      },
      "execution_count": 24,
      "outputs": [
        {
          "output_type": "stream",
          "name": "stdout",
          "text": [
            "Python programming is enjoying\n",
            "Python programming isenjoying\n",
            "Python programming isenjoying\n"
          ]
        }
      ]
    },
    {
      "cell_type": "markdown",
      "source": [
        "Arithmetic Operations"
      ],
      "metadata": {
        "id": "2UCbFzKyJ8un"
      }
    },
    {
      "cell_type": "code",
      "source": [
        "print(c+d) #  c = 2, d = 4\n",
        "print(d-c)\n",
        "print(d*c)\n",
        "print(int(d/c))\n",
        "print(d%c)\n",
        "print(3//2) # 1.50\n",
        "print(d**c)"
      ],
      "metadata": {
        "colab": {
          "base_uri": "https://localhost:8080/"
        },
        "id": "QCtOoNDcJ_Df",
        "outputId": "18d530d0-2346-4cf3-bd13-cb97de7d632b"
      },
      "execution_count": 25,
      "outputs": [
        {
          "output_type": "stream",
          "name": "stdout",
          "text": [
            "6\n",
            "2\n",
            "8\n",
            "2\n",
            "0\n",
            "1\n",
            "16\n"
          ]
        }
      ]
    },
    {
      "cell_type": "markdown",
      "source": [
        "Assignment Operators"
      ],
      "metadata": {
        "id": "nqHLy5KmKBp_"
      }
    },
    {
      "cell_type": "code",
      "source": [
        "q=10\n",
        "q+=5 #same as q=q+5\n",
        "\n",
        "print(q) #sane as q = q+5, q 10+5=15"
      ],
      "metadata": {
        "colab": {
          "base_uri": "https://localhost:8080/"
        },
        "id": "YlfodzMXKDe_",
        "outputId": "c65e1386-424f-4ae2-e51a-4057a6453ff0"
      },
      "execution_count": 26,
      "outputs": [
        {
          "output_type": "stream",
          "name": "stdout",
          "text": [
            "15\n"
          ]
        }
      ]
    },
    {
      "cell_type": "markdown",
      "source": [
        "Boolean Logic"
      ],
      "metadata": {
        "id": "wftSqVMWKGtP"
      }
    },
    {
      "cell_type": "code",
      "source": [
        "s = 10\n",
        "print(s^2)\n",
        "print(s|2)"
      ],
      "metadata": {
        "colab": {
          "base_uri": "https://localhost:8080/"
        },
        "id": "gbVAykBQKHzA",
        "outputId": "fd5df271-8347-4928-fcf1-5de01eabd3b4"
      },
      "execution_count": 27,
      "outputs": [
        {
          "output_type": "stream",
          "name": "stdout",
          "text": [
            "8\n",
            "10\n"
          ]
        }
      ]
    },
    {
      "cell_type": "markdown",
      "source": [
        "Comparison Operators"
      ],
      "metadata": {
        "id": "NI1p4APMKJ_o"
      }
    },
    {
      "cell_type": "code",
      "source": [
        "print(s>q) \n",
        "print(s==s)\n",
        "print(q==q)"
      ],
      "metadata": {
        "colab": {
          "base_uri": "https://localhost:8080/"
        },
        "id": "iN8_nCv1KMDU",
        "outputId": "4d3be6f1-fcbf-4ec7-9998-20e88ff725fb"
      },
      "execution_count": 28,
      "outputs": [
        {
          "output_type": "stream",
          "name": "stdout",
          "text": [
            "False\n",
            "True\n",
            "True\n"
          ]
        }
      ]
    },
    {
      "cell_type": "markdown",
      "source": [
        "Logical Operators"
      ],
      "metadata": {
        "id": "09ux4wGBKN63"
      }
    },
    {
      "cell_type": "code",
      "source": [
        "s>q and s==s #False\n",
        "s>q or s==s #True\n",
        "\n",
        "print(s>q and s==s)\n",
        "print(s>q or s==s)"
      ],
      "metadata": {
        "colab": {
          "base_uri": "https://localhost:8080/"
        },
        "id": "jYdGx6A4KP0A",
        "outputId": "e504110f-b35a-48b6-9dc3-6ca455e528df"
      },
      "execution_count": 29,
      "outputs": [
        {
          "output_type": "stream",
          "name": "stdout",
          "text": [
            "False\n",
            "True\n"
          ]
        }
      ]
    },
    {
      "cell_type": "markdown",
      "source": [
        "Identity Operators"
      ],
      "metadata": {
        "id": "l8PI0uUQKSGw"
      }
    },
    {
      "cell_type": "code",
      "source": [
        "s is q \n",
        "print(s is not q)"
      ],
      "metadata": {
        "colab": {
          "base_uri": "https://localhost:8080/"
        },
        "id": "2-_1cVAhKVHY",
        "outputId": "f34e9317-3e7d-46cb-e219-659d7624927b"
      },
      "execution_count": 30,
      "outputs": [
        {
          "output_type": "stream",
          "name": "stdout",
          "text": [
            "True\n"
          ]
        }
      ]
    },
    {
      "cell_type": "markdown",
      "source": [
        "Bitwise Operators Shift right"
      ],
      "metadata": {
        "id": "9shfngmwKXVX"
      }
    },
    {
      "cell_type": "code",
      "source": [
        "u = 2 #0001\n",
        "print(u<<1)\n",
        "\n",
        "g = 10\n",
        "print(10<<1)"
      ],
      "metadata": {
        "id": "vyeXz_9eKZL3"
      },
      "execution_count": null,
      "outputs": []
    }
  ]
}