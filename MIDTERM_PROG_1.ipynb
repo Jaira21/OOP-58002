{
  "nbformat": 4,
  "nbformat_minor": 0,
  "metadata": {
    "colab": {
      "name": "MIDTERM PROG#1",
      "provenance": [],
      "authorship_tag": "ABX9TyNg3TTTvXxjtc36dLyo6A/f",
      "include_colab_link": true
    },
    "kernelspec": {
      "name": "python3",
      "display_name": "Python 3"
    },
    "language_info": {
      "name": "python"
    }
  },
  "cells": [
    {
      "cell_type": "markdown",
      "metadata": {
        "id": "view-in-github",
        "colab_type": "text"
      },
      "source": [
        "<a href=\"https://colab.research.google.com/github/Jaira21/OOP-58002/blob/main/MIDTERM_PROG_1.ipynb\" target=\"_parent\"><img src=\"https://colab.research.google.com/assets/colab-badge.svg\" alt=\"Open In Colab\"/></a>"
      ]
    },
    {
      "cell_type": "markdown",
      "source": [
        "Program 1: Modify the program below by adding two conversion methods - Fahrenheit to Celsius and Kelvin to Celsius (50 points)"
      ],
      "metadata": {
        "id": "wKqV73wzbdiK"
      }
    },
    {
      "cell_type": "code",
      "source": [
        "def main():\n",
        " class TemperatureConversion:\n",
        "  def __init__(self, temp=1):\n",
        "   self._temp = temp\n",
        "\n",
        " class FahrenheitToCelsius(TemperatureConversion):\n",
        "  def conversion(self):\n",
        "   return ((self._temp - 32) * 5)/9\n",
        "\n",
        " class KelvinToCelsius(TemperatureConversion):\n",
        "  def conversion(self):\n",
        "   return self._temp - 273.15\n",
        "\n",
        " tempInCelsius = float(input(\"Enter the temperature : \"))\n",
        "\n",
        " convert = KelvinToCelsius(tempInCelsius)\n",
        "\n",
        " print(\"In kelvin to Celsius : \" + str(convert.conversion()) + \" c \" )\n",
        "\n",
        " convert = FahrenheitToCelsius(tempInCelsius)\n",
        "\n",
        " print(\"In Fahrenheit to Celsius : \" +str(convert.conversion()) + \" c \")\n",
        "\n",
        "\n",
        "\n",
        "main()"
      ],
      "metadata": {
        "colab": {
          "base_uri": "https://localhost:8080/"
        },
        "id": "rK1lxkwZcpmB",
        "outputId": "dc3e75a8-609c-4961-b48d-f9f2dc0512f7"
      },
      "execution_count": 5,
      "outputs": [
        {
          "output_type": "stream",
          "name": "stdout",
          "text": [
            "Enter the temperature : 13\n",
            "In kelvin to Celsius : -260.15 c \n",
            "In Fahrenheit to Celsius : -10.555555555555555 c \n"
          ]
        }
      ]
    }
  ]
}