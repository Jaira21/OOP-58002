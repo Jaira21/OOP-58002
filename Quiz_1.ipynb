{
  "nbformat": 4,
  "nbformat_minor": 0,
  "metadata": {
    "colab": {
      "name": "Quiz#1.ipynb",
      "provenance": [],
      "authorship_tag": "ABX9TyO9lwotnWeqtyAKsvrYyPpC",
      "include_colab_link": true
    },
    "kernelspec": {
      "name": "python3",
      "display_name": "Python 3"
    },
    "language_info": {
      "name": "python"
    }
  },
  "cells": [
    {
      "cell_type": "markdown",
      "metadata": {
        "id": "view-in-github",
        "colab_type": "text"
      },
      "source": [
        "<a href=\"https://colab.research.google.com/github/Jaira21/OOP-58002/blob/main/Quiz_1.ipynb\" target=\"_parent\"><img src=\"https://colab.research.google.com/assets/colab-badge.svg\" alt=\"Open In Colab\"/></a>"
      ]
    },
    {
      "cell_type": "code",
      "source": [
        "class Temperature():\n",
        "  def __init__(self,Celsius):\n",
        "    self.Celsius = Celsius\n",
        "  \n",
        "  def Fahrenheit(self):\n",
        "    result = float((9 * self.Celsius) / 5 + 32)\n",
        "    return result\n",
        "\n",
        "\n",
        "input_Temperature = float(input(\"Insert a Temperature in Celsius: \"))\n",
        "Temperature1 = Temperature(input_Temperature)\n",
        "\n",
        "print(Temperature1.Fahrenheit())"
      ],
      "metadata": {
        "colab": {
          "base_uri": "https://localhost:8080/"
        },
        "id": "AXv28kg8ngnu",
        "outputId": "f49f3fa0-ddfc-4e28-a07f-bf40eac3d0bc"
      },
      "execution_count": 3,
      "outputs": [
        {
          "output_type": "stream",
          "name": "stdout",
          "text": [
            "Insert a Temperature in Celsius: 12\n",
            "53.6\n"
          ]
        }
      ]
    }
  ]
}